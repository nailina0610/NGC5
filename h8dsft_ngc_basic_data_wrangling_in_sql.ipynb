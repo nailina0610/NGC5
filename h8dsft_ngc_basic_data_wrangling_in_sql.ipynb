{
 "cells": [
  {
   "cell_type": "markdown",
   "metadata": {},
   "source": [
    "# PERKENALAN"
   ]
  },
  {
   "cell_type": "markdown",
   "metadata": {},
   "source": [
    "##### =================================================\n",
    "##### Non Graded Challenge 5\n",
    "\n",
    "##### Nama  : Nailina Farah\n",
    "##### Batch : RMT-028\n",
    "\n",
    "##### Program ini dibuat untuk membuat 2 tabel yaitu Customers dan Orders serta mengambil jumlah total pesanaan yang dibuat.\n",
    "###### ================================================="
   ]
  },
  {
   "cell_type": "markdown",
   "metadata": {},
   "source": [
    "# ANSWER"
   ]
  },
  {
   "cell_type": "code",
   "execution_count": null,
   "metadata": {
    "vscode": {
     "languageId": "plaintext"
    }
   },
   "outputs": [],
   "source": [
    "-- Customers Table\n",
    "CREATE TABLE Customers (\n",
    "\tcustomer_id INT PRIMARY KEY,\n",
    "\tcustomer_name VARCHAR,\n",
    "\tcity VARCHAR\n",
    ");\n",
    "\n",
    "-- Orders Table\n",
    "CREATE TABLE Orders (\n",
    "\torder_id INT PRIMARY KEY,\n",
    "\tcustomer_id INT,\n",
    "\torder_date DATE,\n",
    "\ttotal_amount DECIMAL (5, 2),\n",
    "\tFOREIGN KEY (customer_id) REFERENCES Customers(customer_id)\n",
    ");\n",
    "\n",
    "-- Insert Data ke dalam tabel Customers\n",
    "INSERT INTO Customers (customer_id, customer_name, city)\n",
    "VALUES \n",
    "\t(1, 'John Doe', 'New York'),\n",
    "\t(2, 'Jane Smith', 'Los Angeles'),\n",
    "\t(3, 'David Johnson', 'Chicago');\n",
    "\t\n",
    "-- Insert Data ke dalam tabel Orders\n",
    "INSERT INTO Orders (order_id, customer_id, order_date, total_amount)\n",
    "VALUES \n",
    "\t(1, 1, '2022-01-10', '100.00'),\n",
    "\t(2, 1, '2022-02-15', '150.00'),\n",
    "\t(3, 2, '2022-03-20', '200.00'),\n",
    "\t(4, 3, '2022-04-25', '50.00');\n",
    "\t\n",
    "-- Mengambil jumlah total pesanan yang dibuat setiap customer dengan nama pelanggan\n",
    "SELECT\n",
    "\tCustomers.customer_name,\n",
    "\tCOUNT(Orders.order_id) AS total_orders\n",
    "FROM Customers\n",
    "LEFT JOIN Orders ON Customers.customer_id = Orders.customer_id\n",
    "GROUP BY Customers.customer_id, Customers.customer_name\n",
    "ORDER BY total_orders DESC;"
   ]
  }
 ],
 "metadata": {
  "language_info": {
   "name": "python"
  }
 },
 "nbformat": 4,
 "nbformat_minor": 2
}
